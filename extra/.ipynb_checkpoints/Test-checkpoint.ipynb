{
 "cells": [
  {
   "cell_type": "code",
   "execution_count": null,
   "id": "c58e9427-5975-4308-a643-c798dc8631c7",
   "metadata": {},
   "outputs": [],
   "source": []
  },
  {
   "cell_type": "code",
   "execution_count": null,
   "id": "c82ce1e2-26c2-4490-9f45-8b3e1b906a2b",
   "metadata": {},
   "outputs": [],
   "source": [
    "plt.figure(figsize=(8,5))\n",
    "plt.plot(pk_dlin.power.coords['k'], pk_dlin.power['power'].real / Plin_zout(pk_dlin.power.coords['k']), 'k', label = '$P_{IC}$/$P_{lin}$')\n",
    "for z_test in [50, 75, 100, 125, 150, 175, 200]:\n",
    "    c = cosmology.Cosmology(h=0.6766, Omega0_cdm=0.309640, n_s=0.9665, m_ncdm=[], A_s=2.105e-9)\n",
    "    Plin_z_test = cosmology.LinearPower(c, z_test)\n",
    "    plt.plot(pk_dlin.power.coords['k'], Plin_zout(pk_dlin.power.coords['k'])/Plin_z_test(pk_dlin.power.coords['k']), linestyle=':', label = '$z_{{test}}={}$'.format(z_test))\n",
    "plt.xscale('log')\n",
    "plt.legend(loc=0, ncol=1, frameon=False)\n",
    "plt.title(\"$z=%.1f$\"%zout)\n",
    "plt.xlabel(\"$k\\,[h\\,\\mathrm{Mpc}^{-1}]$\", fontsize=12)\n",
    "plt.ylabel(\"$P\\,[h^{-3}\\mathrm{Mpc}^3]$\")\n",
    "plt.savefig(output_folder + 'Pk_fracICbyLin_z=%.1f_yz_Nmesh_%i_sim_%i_simType_%s_Mmin_%.1f_Mmax_%.1f.pdf'%(zout, Nmesh, sim, sim_type, Mmin, Mmax), bbox_inches='tight')\n",
    "plt.close()\n"
   ]
  }
 ],
 "metadata": {
  "kernelspec": {
   "display_name": "nbodykit-env",
   "language": "python",
   "name": "env"
  },
  "language_info": {
   "codemirror_mode": {
    "name": "ipython",
    "version": 3
   },
   "file_extension": ".py",
   "mimetype": "text/x-python",
   "name": "python",
   "nbconvert_exporter": "python",
   "pygments_lexer": "ipython3",
   "version": "3.8.20"
  }
 },
 "nbformat": 4,
 "nbformat_minor": 5
}
