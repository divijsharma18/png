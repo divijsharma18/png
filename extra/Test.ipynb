{
 "cells": [
  {
   "cell_type": "code",
   "execution_count": 1,
   "id": "c58e9427-5975-4308-a643-c798dc8631c7",
   "metadata": {},
   "outputs": [],
   "source": [
    "# import all that's needed\n",
    "import sys\n",
    "sys.path.insert(0,'/home/aobulj/data/Hi-Fi_mocks')\n",
    "sys.path.insert(0,'/home/aobulj/git/Pylians3/library')\n",
    "sys.path.insert(0,'../')\n",
    "from lib.tng_lib import *\n",
    "import numpy as np\n",
    "from nbodykit.lab import *\n",
    "from nbodykit.base.catalog import CatalogSource\n",
    "import time\n",
    "from argparse import ArgumentParser\n",
    "from scipy.interpolate import interp1d\n",
    "from nbodykit import setup_logging"
   ]
  },
  {
   "cell_type": "code",
   "execution_count": 2,
   "id": "1e762083-78a0-4655-a276-44cd10e50808",
   "metadata": {},
   "outputs": [],
   "source": [
    "c = cosmology.Cosmology(h=0.6766, Omega0_cdm=0.309640, n_s=0.9665, m_ncdm=[], A_s=2.105e-9)"
   ]
  },
  {
   "cell_type": "code",
   "execution_count": 3,
   "id": "c5406f24-896d-4e6e-9ef7-d9b8f9b4d75e",
   "metadata": {},
   "outputs": [],
   "source": [
    "zout=0.5\n",
    "Plin_zout = cosmology.LinearPower(c, zout)"
   ]
  },
  {
   "cell_type": "code",
   "execution_count": null,
   "id": "70480ddd-fb1c-4951-b631-47b5531bfcde",
   "metadata": {},
   "outputs": [],
   "source": [
    "sim_type = 'Gaussian'\n",
    "sim=1991\n",
    "if sim_type == 'Gaussian':\n",
    "    snapdir = '/global/cfs/projectdirs/m4031/divijsharma/PNG/{}/Gaussian/ICmesh'.format(sim)\n",
    "else: \n",
    "    snapdir = '/global/cfs/projectdirs/m4031/divijsharma/PNG/{}/PNG_EQ_1000.0/ICmesh'.format(sim)\n",
    "dlin = BigFileMesh(snapdir, 'Field')\n",
    "dlin = dlin.paint(mode='complex', Nmesh=256)\n",
    "pk_dlin = FFTPower(dlin, mode='1d', kmin=kmin)"
   ]
  },
  {
   "cell_type": "code",
   "execution_count": null,
   "id": "c82ce1e2-26c2-4490-9f45-8b3e1b906a2b",
   "metadata": {},
   "outputs": [],
   "source": [
    "plt.figure(figsize=(8,5))\n",
    "plt.plot(pk_dlin.power.coords['k'], pk_dlin.power['power'].real / Plin_zout(pk_dlin.power.coords['k']), 'k', label = '$P_{IC}$/$P_{lin}$')\n",
    "for z_test in [50, 75, 100, 125, 150, 175, 200]:\n",
    "    c = cosmology.Cosmology(h=0.6766, Omega0_cdm=0.309640, n_s=0.9665, m_ncdm=[], A_s=2.105e-9)\n",
    "    Plin_z_test = cosmology.LinearPower(c, z_test)\n",
    "    plt.plot(pk_dlin.power.coords['k'], Plin_z_test(pk_dlin.power.coords['k'])/Plin_zout(pk_dlin.power.coords['k']), linestyle=':', label = '$z_{{test}}={}$'.format(z_test))\n",
    "plt.xscale('log')\n",
    "plt.legend(loc=0, ncol=1, frameon=False)\n",
    "plt.title(\"$z=%.1f$\"%zout)\n",
    "plt.xlabel(\"$k\\,[h\\,\\mathrm{Mpc}^{-1}]$\", fontsize=12)\n",
    "plt.ylabel(\"$P\\,[h^{-3}\\mathrm{Mpc}^3]$\")\n",
    "plt.savefig(output_folder + 'Pk_fracICbyLin_z=%.1f_yz_Nmesh_%i_sim_%i_simType_%s_Mmin_%.1f_Mmax_%.1f.pdf'%(zout, Nmesh, sim, sim_type, Mmin, Mmax), bbox_inches='tight')\n",
    "plt.close()\n"
   ]
  },
  {
   "cell_type": "code",
   "execution_count": null,
   "id": "da745c3e-f82d-4244-9a06-691cefc29311",
   "metadata": {},
   "outputs": [],
   "source": []
  }
 ],
 "metadata": {
  "kernelspec": {
   "display_name": "nbodykit-env",
   "language": "python",
   "name": "env"
  },
  "language_info": {
   "codemirror_mode": {
    "name": "ipython",
    "version": 3
   },
   "file_extension": ".py",
   "mimetype": "text/x-python",
   "name": "python",
   "nbconvert_exporter": "python",
   "pygments_lexer": "ipython3",
   "version": "3.8.20"
  }
 },
 "nbformat": 4,
 "nbformat_minor": 5
}
